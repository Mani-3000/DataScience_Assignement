{
 "cells": [
  {
   "cell_type": "code",
   "execution_count": 1,
   "id": "2e622633-ce14-40d3-9771-e80e111a9dac",
   "metadata": {},
   "outputs": [
    {
     "name": "stdout",
     "output_type": "stream",
     "text": [
      "Requirement already satisfied: pandas in c:\\users\\admin\\appdata\\roaming\\python\\python312\\site-packages (1.5.3)\n",
      "Requirement already satisfied: mlxtend in c:\\users\\admin\\appdata\\roaming\\python\\python312\\site-packages (0.23.4)\n",
      "Requirement already satisfied: openpyxl in c:\\programdata\\anaconda3\\lib\\site-packages (3.1.2)\n",
      "Requirement already satisfied: numpy>=1.21.0 in c:\\programdata\\anaconda3\\lib\\site-packages (from pandas) (1.26.4)\n",
      "Requirement already satisfied: python-dateutil>=2.8.1 in c:\\programdata\\anaconda3\\lib\\site-packages (from pandas) (2.9.0.post0)\n",
      "Requirement already satisfied: pytz>=2020.1 in c:\\programdata\\anaconda3\\lib\\site-packages (from pandas) (2024.1)\n",
      "Requirement already satisfied: scipy>=1.2.1 in c:\\programdata\\anaconda3\\lib\\site-packages (from mlxtend) (1.13.1)\n",
      "Requirement already satisfied: scikit-learn>=1.3.1 in c:\\users\\admin\\appdata\\roaming\\python\\python312\\site-packages (from mlxtend) (1.6.1)\n",
      "Requirement already satisfied: matplotlib>=3.0.0 in c:\\programdata\\anaconda3\\lib\\site-packages (from mlxtend) (3.8.4)\n",
      "Requirement already satisfied: joblib>=0.13.2 in c:\\programdata\\anaconda3\\lib\\site-packages (from mlxtend) (1.4.2)\n",
      "Requirement already satisfied: et-xmlfile in c:\\programdata\\anaconda3\\lib\\site-packages (from openpyxl) (1.1.0)\n",
      "Requirement already satisfied: contourpy>=1.0.1 in c:\\programdata\\anaconda3\\lib\\site-packages (from matplotlib>=3.0.0->mlxtend) (1.2.0)\n",
      "Requirement already satisfied: cycler>=0.10 in c:\\programdata\\anaconda3\\lib\\site-packages (from matplotlib>=3.0.0->mlxtend) (0.11.0)\n",
      "Requirement already satisfied: fonttools>=4.22.0 in c:\\programdata\\anaconda3\\lib\\site-packages (from matplotlib>=3.0.0->mlxtend) (4.51.0)\n",
      "Requirement already satisfied: kiwisolver>=1.3.1 in c:\\programdata\\anaconda3\\lib\\site-packages (from matplotlib>=3.0.0->mlxtend) (1.4.4)\n",
      "Requirement already satisfied: packaging>=20.0 in c:\\programdata\\anaconda3\\lib\\site-packages (from matplotlib>=3.0.0->mlxtend) (23.2)\n",
      "Requirement already satisfied: pillow>=8 in c:\\programdata\\anaconda3\\lib\\site-packages (from matplotlib>=3.0.0->mlxtend) (10.3.0)\n",
      "Requirement already satisfied: pyparsing>=2.3.1 in c:\\programdata\\anaconda3\\lib\\site-packages (from matplotlib>=3.0.0->mlxtend) (3.0.9)\n",
      "Requirement already satisfied: six>=1.5 in c:\\programdata\\anaconda3\\lib\\site-packages (from python-dateutil>=2.8.1->pandas) (1.16.0)\n",
      "Requirement already satisfied: threadpoolctl>=3.1.0 in c:\\users\\admin\\appdata\\roaming\\python\\python312\\site-packages (from scikit-learn>=1.3.1->mlxtend) (3.6.0)\n"
     ]
    },
    {
     "name": "stderr",
     "output_type": "stream",
     "text": [
      "WARNING: Ignoring invalid distribution ~eras (C:\\ProgramData\\anaconda3\\Lib\\site-packages)\n",
      "WARNING: Ignoring invalid distribution ~eras (C:\\ProgramData\\anaconda3\\Lib\\site-packages)\n",
      "WARNING: Ignoring invalid distribution ~eras (C:\\ProgramData\\anaconda3\\Lib\\site-packages)\n"
     ]
    },
    {
     "name": "stdout",
     "output_type": "stream",
     "text": [
      "Requirement already satisfied: mlxtend in c:\\users\\admin\\appdata\\roaming\\python\\python312\\site-packages (0.23.4)\n",
      "Requirement already satisfied: scipy>=1.2.1 in c:\\programdata\\anaconda3\\lib\\site-packages (from mlxtend) (1.13.1)\n",
      "Requirement already satisfied: numpy>=1.16.2 in c:\\programdata\\anaconda3\\lib\\site-packages (from mlxtend) (1.26.4)\n",
      "Requirement already satisfied: pandas>=0.24.2 in c:\\users\\admin\\appdata\\roaming\\python\\python312\\site-packages (from mlxtend) (1.5.3)\n",
      "Requirement already satisfied: scikit-learn>=1.3.1 in c:\\users\\admin\\appdata\\roaming\\python\\python312\\site-packages (from mlxtend) (1.6.1)\n",
      "Requirement already satisfied: matplotlib>=3.0.0 in c:\\programdata\\anaconda3\\lib\\site-packages (from mlxtend) (3.8.4)\n",
      "Requirement already satisfied: joblib>=0.13.2 in c:\\programdata\\anaconda3\\lib\\site-packages (from mlxtend) (1.4.2)\n",
      "Requirement already satisfied: contourpy>=1.0.1 in c:\\programdata\\anaconda3\\lib\\site-packages (from matplotlib>=3.0.0->mlxtend) (1.2.0)\n",
      "Requirement already satisfied: cycler>=0.10 in c:\\programdata\\anaconda3\\lib\\site-packages (from matplotlib>=3.0.0->mlxtend) (0.11.0)\n",
      "Requirement already satisfied: fonttools>=4.22.0 in c:\\programdata\\anaconda3\\lib\\site-packages (from matplotlib>=3.0.0->mlxtend) (4.51.0)\n",
      "Requirement already satisfied: kiwisolver>=1.3.1 in c:\\programdata\\anaconda3\\lib\\site-packages (from matplotlib>=3.0.0->mlxtend) (1.4.4)\n",
      "Requirement already satisfied: packaging>=20.0 in c:\\programdata\\anaconda3\\lib\\site-packages (from matplotlib>=3.0.0->mlxtend) (23.2)\n",
      "Requirement already satisfied: pillow>=8 in c:\\programdata\\anaconda3\\lib\\site-packages (from matplotlib>=3.0.0->mlxtend) (10.3.0)\n",
      "Requirement already satisfied: pyparsing>=2.3.1 in c:\\programdata\\anaconda3\\lib\\site-packages (from matplotlib>=3.0.0->mlxtend) (3.0.9)\n",
      "Requirement already satisfied: python-dateutil>=2.7 in c:\\programdata\\anaconda3\\lib\\site-packages (from matplotlib>=3.0.0->mlxtend) (2.9.0.post0)\n",
      "Requirement already satisfied: pytz>=2020.1 in c:\\programdata\\anaconda3\\lib\\site-packages (from pandas>=0.24.2->mlxtend) (2024.1)\n",
      "Requirement already satisfied: threadpoolctl>=3.1.0 in c:\\users\\admin\\appdata\\roaming\\python\\python312\\site-packages (from scikit-learn>=1.3.1->mlxtend) (3.6.0)\n",
      "Requirement already satisfied: six>=1.5 in c:\\programdata\\anaconda3\\lib\\site-packages (from python-dateutil>=2.7->matplotlib>=3.0.0->mlxtend) (1.16.0)\n"
     ]
    },
    {
     "name": "stderr",
     "output_type": "stream",
     "text": [
      "WARNING: Ignoring invalid distribution ~eras (C:\\ProgramData\\anaconda3\\Lib\\site-packages)\n",
      "WARNING: Ignoring invalid distribution ~eras (C:\\ProgramData\\anaconda3\\Lib\\site-packages)\n",
      "WARNING: Ignoring invalid distribution ~eras (C:\\ProgramData\\anaconda3\\Lib\\site-packages)\n"
     ]
    }
   ],
   "source": [
    "!pip install pandas mlxtend openpyxl\n",
    "!pip install --upgrade mlxtend\n"
   ]
  },
  {
   "cell_type": "code",
   "execution_count": 1,
   "id": "4a7aa5c3-156e-44ae-97fb-d766088639dc",
   "metadata": {},
   "outputs": [
    {
     "name": "stderr",
     "output_type": "stream",
     "text": [
      "C:\\ProgramData\\anaconda3\\Lib\\site-packages\\openpyxl\\packaging\\core.py:99: DeprecationWarning: datetime.datetime.utcnow() is deprecated and scheduled for removal in a future version. Use timezone-aware objects to represent datetimes in UTC: datetime.datetime.now(datetime.UTC).\n",
      "  now = datetime.datetime.utcnow()\n",
      "C:\\ProgramData\\anaconda3\\Lib\\site-packages\\openpyxl\\packaging\\core.py:99: DeprecationWarning: datetime.datetime.utcnow() is deprecated and scheduled for removal in a future version. Use timezone-aware objects to represent datetimes in UTC: datetime.datetime.now(datetime.UTC).\n",
      "  now = datetime.datetime.utcnow()\n"
     ]
    },
    {
     "name": "stdout",
     "output_type": "stream",
     "text": [
      "Frequent Itemsets:\n",
      "     support          itemsets\n",
      "0  0.020397         (almonds)\n",
      "1  0.033329         (avocado)\n",
      "2  0.010799  (barbecue sauce)\n",
      "3  0.014265       (black tea)\n",
      "4  0.009199     (blueberries)\n",
      "Generated Rules:\n",
      "                    antecedents                 consequents   support  \\\n",
      "0              (mineral water)                   (avocado)  0.011598   \n",
      "1                    (avocado)             (mineral water)  0.011598   \n",
      "2                   (brownies)             (mineral water)  0.009599   \n",
      "3              (mineral water)                  (brownies)  0.009599   \n",
      "4                       (cake)                   (burgers)  0.011465   \n",
      "..                         ...                         ...       ...   \n",
      "515      (spaghetti, tomatoes)             (mineral water)  0.009332   \n",
      "516  (mineral water, tomatoes)                 (spaghetti)  0.009332   \n",
      "517                (spaghetti)   (mineral water, tomatoes)  0.009332   \n",
      "518            (mineral water)       (spaghetti, tomatoes)  0.009332   \n",
      "519                 (tomatoes)  (spaghetti, mineral water)  0.009332   \n",
      "\n",
      "     confidence      lift  \n",
      "0      0.048658  1.459926  \n",
      "1      0.348000  1.459926  \n",
      "2      0.284585  1.193888  \n",
      "3      0.040268  1.193888  \n",
      "4      0.141447  1.622319  \n",
      "..          ...       ...  \n",
      "515    0.445860  1.870467  \n",
      "516    0.382514  2.196964  \n",
      "517    0.053599  2.196964  \n",
      "518    0.039150  1.870467  \n",
      "519    0.136452  2.284661  \n",
      "\n",
      "[520 rows x 5 columns]\n",
      "\n",
      "1. Lift Explanation:\n",
      "Lift is the ratio of the observed support to that expected if the antecedent and consequent were independent. A lift >1 suggests a strong relationship.\n",
      "\n",
      "2. Support and Confidence Explanation:\n",
      "Support = (Transactions containing both A and B) / (Total transactions)\n",
      "Confidence = (Transactions containing both A and B) / (Transactions containing A)\n",
      "\n",
      "3. Limitations of Association Rules:\n",
      "- Computationally expensive for large datasets\n",
      "- Generates a large number of rules, making interpretation challenging\n",
      "- Needs proper threshold tuning for meaningful rules\n"
     ]
    }
   ],
   "source": [
    "import pandas as pd\n",
    "from mlxtend.preprocessing import TransactionEncoder\n",
    "from mlxtend.frequent_patterns import apriori, association_rules\n",
    "\n",
    "# Load dataset (without assuming column names)\n",
    "file_path = r\"C:\\Users\\admin\\Downloads\\Association Rules\\Association Rules\\Online retail.xlsx\"\n",
    "df = pd.read_excel(file_path, header=None) \n",
    "\n",
    "# Convert transactions into a list of lists\n",
    "transactions = df[0].dropna().apply(lambda x: x.split(','))  \n",
    "\n",
    "# Convert transactions into a one-hot encoded DataFrame\n",
    "te = TransactionEncoder()\n",
    "basket = te.fit(transactions).transform(transactions)\n",
    "df_encoded = pd.DataFrame(basket, columns=te.columns_)\n",
    "\n",
    "# Apply Apriori algorithm with adjusted min_support\n",
    "min_support = 0.009  \n",
    "frequent_itemsets = apriori(df_encoded, min_support=min_support, use_colnames=True)\n",
    "\n",
    "# Debugging output\n",
    "print(\"Frequent Itemsets:\\n\", frequent_itemsets.head())\n",
    "\n",
    "# Ensure frequent itemsets are not empty before generating rules\n",
    "if not frequent_itemsets.empty:\n",
    "    rules = association_rules(frequent_itemsets, metric='lift', min_threshold=1.0)\n",
    "    print(\"Generated Rules:\\n\", rules[['antecedents', 'consequents', 'support', 'confidence', 'lift']])\n",
    "else:\n",
    "    print(\"No frequent itemsets found. Try lowering the min_support value further.\")\n",
    "\n",
    "# Answering Interview Questions\n",
    "print(\"\\n1. Lift Explanation:\")\n",
    "print(\"Lift is the ratio of the observed support to that expected if the antecedent and consequent were independent. A lift >1 suggests a strong relationship.\")\n",
    "\n",
    "print(\"\\n2. Support and Confidence Explanation:\")\n",
    "print(\"Support = (Transactions containing both A and B) / (Total transactions)\")\n",
    "print(\"Confidence = (Transactions containing both A and B) / (Transactions containing A)\")\n",
    "\n",
    "print(\"\\n3. Limitations of Association Rules:\")\n",
    "print(\"- Computationally expensive for large datasets\")\n",
    "print(\"- Generates a large number of rules, making interpretation challenging\")\n",
    "print(\"- Needs proper threshold tuning for meaningful rules\")\n"
   ]
  },
  {
   "cell_type": "code",
   "execution_count": null,
   "id": "01fc9af3-79e7-4d2b-8c3b-445a76e02b71",
   "metadata": {},
   "outputs": [],
   "source": []
  }
 ],
 "metadata": {
  "kernelspec": {
   "display_name": "Python 3 (ipykernel)",
   "language": "python",
   "name": "python3"
  },
  "language_info": {
   "codemirror_mode": {
    "name": "ipython",
    "version": 3
   },
   "file_extension": ".py",
   "mimetype": "text/x-python",
   "name": "python",
   "nbconvert_exporter": "python",
   "pygments_lexer": "ipython3",
   "version": "3.12.4"
  }
 },
 "nbformat": 4,
 "nbformat_minor": 5
}

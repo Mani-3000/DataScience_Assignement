{
 "cells": [
  {
   "cell_type": "code",
   "execution_count": null,
   "id": "2e622633-ce14-40d3-9771-e80e111a9dac",
   "metadata": {},
   "outputs": [],
   "source": [
    "!pip install pandas mlxtend openpyxl\n",
    "!pip install --upgrade mlxtend\n"
   ]
  },
  {
   "cell_type": "code",
   "execution_count": 1,
   "id": "801ddbbc-9520-49e1-9830-06be529839c5",
   "metadata": {},
   "outputs": [
    {
     "name": "stderr",
     "output_type": "stream",
     "text": [
      "C:\\ProgramData\\anaconda3\\Lib\\site-packages\\openpyxl\\packaging\\core.py:99: DeprecationWarning: datetime.datetime.utcnow() is deprecated and scheduled for removal in a future version. Use timezone-aware objects to represent datetimes in UTC: datetime.datetime.now(datetime.UTC).\n",
      "  now = datetime.datetime.utcnow()\n",
      "C:\\ProgramData\\anaconda3\\Lib\\site-packages\\openpyxl\\packaging\\core.py:99: DeprecationWarning: datetime.datetime.utcnow() is deprecated and scheduled for removal in a future version. Use timezone-aware objects to represent datetimes in UTC: datetime.datetime.now(datetime.UTC).\n",
      "  now = datetime.datetime.utcnow()\n"
     ]
    },
    {
     "name": "stdout",
     "output_type": "stream",
     "text": [
      "Frequent Itemsets:\n",
      "     support          itemsets\n",
      "0  0.020267         (almonds)\n",
      "1  0.033200         (avocado)\n",
      "2  0.010800  (barbecue sauce)\n",
      "3  0.014267       (black tea)\n",
      "4  0.011467      (body spray)\n",
      "Generated Rules:\n",
      "                     antecedents                 consequents   support  \\\n",
      "0               (mineral water)                   (avocado)  0.011467   \n",
      "1                     (avocado)             (mineral water)  0.011467   \n",
      "2                     (burgers)                      (cake)  0.011467   \n",
      "3                        (cake)                   (burgers)  0.011467   \n",
      "4                     (burgers)                 (chocolate)  0.017067   \n",
      "..                          ...                         ...       ...   \n",
      "403  (spaghetti, mineral water)                  (pancakes)  0.011467   \n",
      "404   (pancakes, mineral water)                 (spaghetti)  0.011467   \n",
      "405                 (spaghetti)   (pancakes, mineral water)  0.011467   \n",
      "406                  (pancakes)  (spaghetti, mineral water)  0.011467   \n",
      "407             (mineral water)       (pancakes, spaghetti)  0.011467   \n",
      "\n",
      "     confidence      lift  \n",
      "0      0.048125  1.449559  \n",
      "1      0.345382  1.449559  \n",
      "2      0.131498  1.622103  \n",
      "3      0.141447  1.622103  \n",
      "4      0.195719  1.194377  \n",
      "..          ...       ...  \n",
      "403    0.191964  2.019260  \n",
      "404    0.339921  1.952073  \n",
      "405    0.065850  1.952073  \n",
      "406    0.120617  2.019260  \n",
      "407    0.048125  1.909736  \n",
      "\n",
      "[408 rows x 5 columns]\n",
      "\n",
      "1. Lift Explanation:\n",
      "Lift is the ratio of the observed support to that expected if the antecedent and consequent were independent. A lift >1 suggests a strong relationship.\n",
      "\n",
      "2. Support and Confidence Explanation:\n",
      "Support = (Transactions containing both A and B) / (Total transactions)\n",
      "Confidence = (Transactions containing both A and B) / (Transactions containing A)\n",
      "\n",
      "3. Limitations of Association Rules:\n",
      "- Computationally expensive for large datasets\n",
      "- Generates a large number of rules, making interpretation challenging\n",
      "- Needs proper threshold tuning for meaningful rules\n"
     ]
    }
   ],
   "source": [
    "import pandas as pd\n",
    "from mlxtend.preprocessing import TransactionEncoder\n",
    "from mlxtend.frequent_patterns import apriori, association_rules\n",
    "\n",
    "# Load dataset (ensure the file is in the same directory)\n",
    "file_path =  r\"C:\\Users\\admin\\Downloads\\Association Rules\\Association Rules\\Online retail.xlsx\"\n",
    "df = pd.read_excel(file_path, sheet_name=\"Sheet1\")\n",
    "\n",
    "# Convert transactions into a list of lists\n",
    "transactions = df.iloc[:, 0].dropna().apply(lambda x: x.split(','))\n",
    "\n",
    "# Convert transactions into a one-hot encoded DataFrame\n",
    "te = TransactionEncoder()\n",
    "basket = te.fit(transactions).transform(transactions)\n",
    "df_encoded = pd.DataFrame(basket, columns=te.columns_)\n",
    "\n",
    "# Apply Apriori algorithm\n",
    "frequent_itemsets = apriori(df_encoded, min_support=0.01, use_colnames=True)\n",
    "print(\"Frequent Itemsets:\\n\", frequent_itemsets.head())  # Debugging output\n",
    "\n",
    "# Ensure frequent itemsets are not empty before generating rules\n",
    "if not frequent_itemsets.empty:\n",
    "    rules = association_rules(frequent_itemsets, metric='lift', min_threshold=1.0)\n",
    "    print(\"Generated Rules:\\n\", rules[['antecedents', 'consequents', 'support', 'confidence', 'lift']])\n",
    "else:\n",
    "    print(\"No frequent itemsets found. Try lowering the min_support value.\")\n",
    "\n",
    "# Answering Interview Questions\n",
    "print(\"\\n1. Lift Explanation:\")\n",
    "print(\"Lift is the ratio of the observed support to that expected if the antecedent and consequent were independent. A lift >1 suggests a strong relationship.\")\n",
    "\n",
    "print(\"\\n2. Support and Confidence Explanation:\")\n",
    "print(\"Support = (Transactions containing both A and B) / (Total transactions)\")\n",
    "print(\"Confidence = (Transactions containing both A and B) / (Transactions containing A)\")\n",
    "\n",
    "print(\"\\n3. Limitations of Association Rules:\")\n",
    "print(\"- Computationally expensive for large datasets\")\n",
    "print(\"- Generates a large number of rules, making interpretation challenging\")\n",
    "print(\"- Needs proper threshold tuning for meaningful rules\")\n"
   ]
  },
  {
   "cell_type": "code",
   "execution_count": null,
   "id": "f2ce8a6d-8f93-48bd-8b98-8ffb9d0af348",
   "metadata": {},
   "outputs": [],
   "source": []
  }
 ],
 "metadata": {
  "kernelspec": {
   "display_name": "Python 3 (ipykernel)",
   "language": "python",
   "name": "python3"
  },
  "language_info": {
   "codemirror_mode": {
    "name": "ipython",
    "version": 3
   },
   "file_extension": ".py",
   "mimetype": "text/x-python",
   "name": "python",
   "nbconvert_exporter": "python",
   "pygments_lexer": "ipython3",
   "version": "3.12.4"
  }
 },
 "nbformat": 4,
 "nbformat_minor": 5
}
